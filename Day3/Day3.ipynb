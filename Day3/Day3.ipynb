{
  "nbformat": 4,
  "nbformat_minor": 0,
  "metadata": {
    "colab": {
      "provenance": []
    },
    "kernelspec": {
      "name": "python3",
      "display_name": "Python 3"
    },
    "language_info": {
      "name": "python"
    }
  },
  "cells": [
    {
      "cell_type": "markdown",
      "source": [
        "**Python List**"
      ],
      "metadata": {
        "id": "aicGQnu6QFoc"
      }
    },
    {
      "cell_type": "code",
      "execution_count": 14,
      "metadata": {
        "id": "JZOJ-u_kQBZ1"
      },
      "outputs": [],
      "source": [
        "# Create a list of tuples containing student names and their respective grades\n",
        "students = [(\"Faiq\", 85), (\"Yusra\", 90), (\"Tehniat\", 75), (\"Anas\", 95)]\n",
        "\n",
        "# Use list comprehension to extract the names of students who scored above 80\n",
        "high_score_students = [student[0] for student in students if student[1] > 80]"
      ]
    },
    {
      "cell_type": "code",
      "source": [
        "#print the list\n",
        "print(high_score_students)"
      ],
      "metadata": {
        "colab": {
          "base_uri": "https://localhost:8080/"
        },
        "id": "aJqhMucZQeYV",
        "outputId": "ae01fd88-696a-4ac8-f692-99cc6d0fe732"
      },
      "execution_count": 15,
      "outputs": [
        {
          "output_type": "stream",
          "name": "stdout",
          "text": [
            "['Faiq', 'Yusra', 'Anas']\n"
          ]
        }
      ]
    },
    {
      "cell_type": "code",
      "source": [
        "#create the list of these students alongwith their grades.\n",
        "high_achiever_scores=[student for student in students if student[1]>80]"
      ],
      "metadata": {
        "id": "N0BvzG8FQzZz"
      },
      "execution_count": 16,
      "outputs": []
    },
    {
      "cell_type": "code",
      "source": [
        "print(high_achiever_scores)"
      ],
      "metadata": {
        "colab": {
          "base_uri": "https://localhost:8080/"
        },
        "id": "V3tuZd7kRqc1",
        "outputId": "653dba2a-00bc-4c58-9284-a3ffe2ab0f74"
      },
      "execution_count": 17,
      "outputs": [
        {
          "output_type": "stream",
          "name": "stdout",
          "text": [
            "[('Faiq', 85), ('Yusra', 90), ('Anas', 95)]\n"
          ]
        }
      ]
    },
    {
      "cell_type": "code",
      "source": [
        "# Create a list of strings and sort them in descending order based on the length of each string\n",
        "word_list = [\"banana\", \"apple\", \"grape\", \"orange\", \"pear\"]\n",
        "word_list.sort(key=lambda x: len(x), reverse=True)\n",
        "\n"
      ],
      "metadata": {
        "id": "M7v0HgzGSNU3"
      },
      "execution_count": 18,
      "outputs": []
    },
    {
      "cell_type": "code",
      "source": [
        "# Print out the sorted list of strings\n",
        "print(word_list)"
      ],
      "metadata": {
        "colab": {
          "base_uri": "https://localhost:8080/"
        },
        "id": "To-CTXgISQYR",
        "outputId": "338deb60-8eb4-457f-f6a4-0cfb5ee36455"
      },
      "execution_count": 19,
      "outputs": [
        {
          "output_type": "stream",
          "name": "stdout",
          "text": [
            "['banana', 'orange', 'apple', 'grape', 'pear']\n"
          ]
        }
      ]
    },
    {
      "cell_type": "markdown",
      "source": [
        "**Python Dictionary**"
      ],
      "metadata": {
        "id": "F3T_ZRrqR0v6"
      }
    },
    {
      "cell_type": "code",
      "source": [
        "# Create a dictionary containing shopping cart items and their respective prices\n",
        "shopping_cart = {\"apple\": 1.0, \"banana\": 2.0, \"orange\": 1.5, \"grape\": 3.0}\n",
        "\n",
        "# Calculate the total cost of the shopping cart by iterating over the dictionary\n",
        "total_cost = 0.0\n",
        "for item, price in shopping_cart.items():\n",
        "    total_cost += price\n",
        "\n",
        "# Use a string format method to display the total cost of the shopping cart\n",
        "print(\"The total cost of the shopping cart is: ${:.2f}\".format(total_cost))"
      ],
      "metadata": {
        "colab": {
          "base_uri": "https://localhost:8080/"
        },
        "id": "zOCZ6Y_3Rx-9",
        "outputId": "0fc16880-ee13-463f-a4a3-1304d76a8a2a"
      },
      "execution_count": 20,
      "outputs": [
        {
          "output_type": "stream",
          "name": "stdout",
          "text": [
            "The total cost of the shopping cart is: $7.50\n"
          ]
        }
      ]
    },
    {
      "cell_type": "markdown",
      "source": [
        "**Python String**"
      ],
      "metadata": {
        "id": "6FxPTqRwSaIH"
      }
    },
    {
      "cell_type": "code",
      "source": [
        "# Create a dictionary to store the count of each character in a given string\n",
        "my_string = \"Hello World!\"\n",
        "char_count = {}\n",
        "for char in my_string:\n",
        "    if char in char_count:\n",
        "        char_count[char] += 1\n",
        "    else:\n",
        "        char_count[char] = 1\n",
        "\n",
        "# Print out the character count dictionary\n",
        "print(char_count)"
      ],
      "metadata": {
        "colab": {
          "base_uri": "https://localhost:8080/"
        },
        "id": "RrMj-0DzSdEW",
        "outputId": "d9f0ca0d-783f-47b3-bf38-7fa97edd4884"
      },
      "execution_count": 21,
      "outputs": [
        {
          "output_type": "stream",
          "name": "stdout",
          "text": [
            "{'H': 1, 'e': 1, 'l': 3, 'o': 2, ' ': 1, 'W': 1, 'r': 1, 'd': 1, '!': 1}\n"
          ]
        }
      ]
    },
    {
      "cell_type": "code",
      "source": [
        "# Create an empty list to store unique characters in the string\n",
        "unique_list = []\n",
        "\n",
        "# Iterate over the string to check for unique characters\n",
        "sample_string = \"hello world\"\n",
        "for char in sample_string:\n",
        "    if char not in unique_list:\n",
        "        unique_list.append(char)\n",
        "# Print out the list of unique characters\n",
        "print(unique_list)\n"
      ],
      "metadata": {
        "colab": {
          "base_uri": "https://localhost:8080/"
        },
        "id": "9rtyOyZmToG0",
        "outputId": "e88e432d-c536-481d-9875-0b09ec064d36"
      },
      "execution_count": 24,
      "outputs": [
        {
          "output_type": "stream",
          "name": "stdout",
          "text": [
            "['h', 'e', 'l', 'o', ' ', 'w', 'r', 'd']\n"
          ]
        }
      ]
    },
    {
      "cell_type": "code",
      "source": [
        "\n",
        "# Create an empty string to store characters that are not vowels\n",
        "new_string = \"\"\n",
        "\n",
        "# Iterate over the string to remove vowels\n",
        "vowels = \"aeiouAEIOU\"\n",
        "for char in sample_string:\n",
        "    if char not in vowels:\n",
        "        new_string += char\n",
        "\n",
        "# Print out the new string without vowels\n",
        "print(new_string)"
      ],
      "metadata": {
        "colab": {
          "base_uri": "https://localhost:8080/"
        },
        "id": "a2ZagjE0Tubt",
        "outputId": "09e414aa-8645-4c6f-ffcc-60e617c72868"
      },
      "execution_count": 25,
      "outputs": [
        {
          "output_type": "stream",
          "name": "stdout",
          "text": [
            "hll wrld\n"
          ]
        }
      ]
    }
  ]
}