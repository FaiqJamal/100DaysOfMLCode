{
  "nbformat": 4,
  "nbformat_minor": 0,
  "metadata": {
    "colab": {
      "provenance": []
    },
    "kernelspec": {
      "name": "python3",
      "display_name": "Python 3"
    },
    "language_info": {
      "name": "python"
    }
  },
  "cells": [
    {
      "cell_type": "markdown",
      "source": [
        "# **Python Basics and Beyond: My Learning Journey**"
      ],
      "metadata": {
        "id": "cq8uRMK9raRZ"
      }
    },
    {
      "cell_type": "markdown",
      "source": [
        "Python is a popular programming language used for web development, data analysis, machine learning, and much more. In this blog post, I will share my learning journey on Python basics and Object-Oriented Programming (OOP) in Python."
      ],
      "metadata": {
        "id": "9qwdOg4WrihO"
      }
    },
    {
      "cell_type": "markdown",
      "source": [
        "**Basics of Python**<br><br>\n",
        "**Variables**"
      ],
      "metadata": {
        "id": "IyjCqcOorsO5"
      }
    },
    {
      "cell_type": "markdown",
      "source": [
        "Variables are used to store data in Python. The data can be of any type, including integers, floats, strings, and more. Here’s an example of declaring and initializing variables:"
      ],
      "metadata": {
        "id": "jS_1TNtKr0wr"
      }
    },
    {
      "cell_type": "code",
      "source": [
        "x = 5\n",
        "y = 3.14\n",
        "name = \"Faiq\""
      ],
      "metadata": {
        "id": "i-pR03ghr8H9"
      },
      "execution_count": null,
      "outputs": []
    },
    {
      "cell_type": "markdown",
      "source": [
        "**Input**\n",
        "\n",
        "The input() function is used to get input from the user. Here's an example:"
      ],
      "metadata": {
        "id": "lw7CF__Yr2CD"
      }
    },
    {
      "cell_type": "code",
      "execution_count": null,
      "metadata": {
        "id": "A4fR5HZnrZKd"
      },
      "outputs": [],
      "source": [
        "name = input(\"Enter your name: \")\n",
        "print(\"Hello, \" + name + \"!\")"
      ]
    },
    {
      "cell_type": "markdown",
      "source": [
        "**Lists**\n",
        "\n",
        "Lists are used to store a collection of items in Python. Here’s an example:"
      ],
      "metadata": {
        "id": "T_biDN_QsBGI"
      }
    },
    {
      "cell_type": "code",
      "source": [
        "fruits = [\"apple\", \"banana\", \"cherry\"]\n",
        "print(fruits)"
      ],
      "metadata": {
        "id": "_34i2AxEsIJt"
      },
      "execution_count": null,
      "outputs": []
    },
    {
      "cell_type": "markdown",
      "source": [
        "**Tuples**\n",
        "\n",
        "Tuples are similar to lists but are immutable, meaning they cannot be changed after creation. Here’s an example:"
      ],
      "metadata": {
        "id": "EjlZ1stfsJGr"
      }
    },
    {
      "cell_type": "code",
      "source": [
        "colours = (\"red\", \"green\", \"blue\")\n",
        "print(colours)"
      ],
      "metadata": {
        "id": "gQoYUlwUsO2G"
      },
      "execution_count": null,
      "outputs": []
    },
    {
      "cell_type": "markdown",
      "source": [
        "**Dictionaries**\n",
        "\n",
        "Dictionaries are used to store key-value pairs in Python. Here’s an example:"
      ],
      "metadata": {
        "id": "aTdzc-4LsRid"
      }
    },
    {
      "cell_type": "code",
      "source": [
        "person = {\n",
        "  \"name\": \"John\",\n",
        "  \"age\": 36,\n",
        "  \"country\": \"USA\"\n",
        "}\n",
        "print(person)"
      ],
      "metadata": {
        "id": "mumV2RpcsTG9"
      },
      "execution_count": null,
      "outputs": []
    },
    {
      "cell_type": "markdown",
      "source": [
        "**Conditional Statements**\n",
        "\n",
        "Conditional statements are used to perform different actions based on different conditions. Here’s an example using the if-else statement:"
      ],
      "metadata": {
        "id": "Hahw-m55sVSq"
      }
    },
    {
      "cell_type": "code",
      "source": [
        "x = 5\n",
        "if x > 0:\n",
        "  print(\"x is positive\")\n",
        "else:\n",
        "  print(\"x is negative\")"
      ],
      "metadata": {
        "id": "t5aFbOTfscRQ"
      },
      "execution_count": null,
      "outputs": []
    },
    {
      "cell_type": "markdown",
      "source": [
        "**Loops**\n",
        "\n",
        "Loops are used to repeat code multiple times. Here’s an example of a for loop:"
      ],
      "metadata": {
        "id": "7EtbHry4sflv"
      }
    },
    {
      "cell_type": "code",
      "source": [
        "fruits = [\"apple\", \"banana\", \"cherry\"]\n",
        "for fruit in fruits:\n",
        "  print(fruit)"
      ],
      "metadata": {
        "id": "VI-hVlijsi59"
      },
      "execution_count": null,
      "outputs": []
    },
    {
      "cell_type": "markdown",
      "source": [
        "# **Introduction to Object-Oriented Programming (OOP) in Python**\n",
        "\n",
        "OOP is a programming paradigm that uses objects to represent and manipulate data. In Python, everything is an object, including integers, strings, and functions. Here’s an example of a class in Python:"
      ],
      "metadata": {
        "id": "qy0V7xAOslGz"
      }
    },
    {
      "cell_type": "code",
      "source": [
        "class Car:\n",
        "  def __init__(self, make, model, year):\n",
        "    self.make = make\n",
        "    self.model = model\n",
        "    self.year = year\n",
        "  def start(self):\n",
        "    print(\"Starting the car...\")\n",
        "  def stop(self):\n",
        "    print(\"Stopping the car...\")"
      ],
      "metadata": {
        "id": "PJ2MDOVss0N_"
      },
      "execution_count": null,
      "outputs": []
    },
    {
      "cell_type": "markdown",
      "source": [
        "In the above code, we define a Car class that has attributes like make, model, and year. We also define methods like start() and stop().\n",
        "\n",
        "We can create an instance of the Car class like this:"
      ],
      "metadata": {
        "id": "nEFX7bKYs2Vc"
      }
    },
    {
      "cell_type": "code",
      "source": [
        "my_car = Car(\"Ford\", \"Mustang\", 2021)"
      ],
      "metadata": {
        "id": "lac4JdREs53f"
      },
      "execution_count": null,
      "outputs": []
    },
    {
      "cell_type": "markdown",
      "source": [
        "We can then access the attributes and methods of my_car like this:"
      ],
      "metadata": {
        "id": "2B3xMksytCM0"
      }
    },
    {
      "cell_type": "code",
      "source": [
        "print(my_car.make)\n",
        "my_car.start()"
      ],
      "metadata": {
        "id": "F5o5UCpps75r"
      },
      "execution_count": null,
      "outputs": []
    },
    {
      "cell_type": "markdown",
      "source": [
        "**Practical Examples**\n",
        "\n",
        "Python can be used to solve a variety of real-world problems. Here are some examples:<br><br>\n",
        "**Simple Game**\n",
        "\n",
        "We can create a simple game in Python using the random module. Here's an example:"
      ],
      "metadata": {
        "id": "tgowGdystD4r"
      }
    },
    {
      "cell_type": "code",
      "source": [
        "import random\n",
        "\n",
        "print(\"Welcome to the number guessing game!\")\n",
        "number = random.randint(1, 10)\n",
        "guess = 0\n",
        "\n",
        "while guess != number:\n",
        "  guess = int(input(\"Guess a number between 1 and 10: \"))\n",
        "  if guess < number:\n",
        "    print(\"Too low, try again!\")\n",
        "  elif guess > number:\n",
        "    print(\"Too high, try again!\")\n",
        "\n",
        "print(\"Congratulations, you guessed the number!\")"
      ],
      "metadata": {
        "id": "cU8U3jektNFM"
      },
      "execution_count": null,
      "outputs": []
    },
    {
      "cell_type": "markdown",
      "source": [
        "In this example, we use the random module to generate a random number between 1 and 10. We then ask the user to guess the number using a while loop. If the guess is too low or too high, we give the user a hint. When the user guesses the correct number, we print a congratulatory message."
      ],
      "metadata": {
        "id": "Omkcj9MltPYC"
      }
    },
    {
      "cell_type": "markdown",
      "source": [
        "**Data Analysis**\n",
        "\n",
        "We can use Python to analyze data using libraries like pandas and numpy. Here's an example of analyzing a CSV file containing information about cars:"
      ],
      "metadata": {
        "id": "T02CrzBrtTDC"
      }
    },
    {
      "cell_type": "code",
      "source": [
        "import pandas as pd\n",
        "import numpy as np\n",
        "data = pd.read_csv(\"cars.csv\")\n",
        "print(data.head())\n",
        "mean_mpg = np.mean(data[\"mpg\"])\n",
        "max_hp = np.max(data[\"hp\"])\n",
        "min_weight = np.min(data[\"weight\"])\n",
        "print(\"Mean MPG:\", mean_mpg)\n",
        "print(\"Max HP:\", max_hp)\n",
        "print(\"Min Weight:\", min_weight)"
      ],
      "metadata": {
        "id": "g9K5vQ2xtP_m"
      },
      "execution_count": null,
      "outputs": []
    },
    {
      "cell_type": "markdown",
      "source": [
        "In this example, we use the pandas library to read the CSV file and create a DataFrame. We then use the numpy library to calculate the mean MPG, maximum HP, and minimum weight of the cars in the DataFrame.\n"
      ],
      "metadata": {
        "id": "q53oUSDYtasf"
      }
    },
    {
      "cell_type": "markdown",
      "source": [
        "**Conclusion**\n",
        "\n",
        "In this blog post, I covered the basics of Python, including variables, input, data structures, conditional statements, and loops. I also introduced Object-Oriented Programming (OOP) in Python and provided some practical examples of using Python for real-world problems. With this knowledge and more, you can start building your own Python projects and exploring the vast ecosystem of Python libraries and frameworks."
      ],
      "metadata": {
        "id": "M-J5Lluhta9O"
      }
    }
  ]
}