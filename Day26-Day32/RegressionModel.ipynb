{
  "nbformat": 4,
  "nbformat_minor": 0,
  "metadata": {
    "colab": {
      "provenance": []
    },
    "kernelspec": {
      "name": "python3",
      "display_name": "Python 3"
    },
    "language_info": {
      "name": "python"
    }
  },
  "cells": [
    {
      "cell_type": "markdown",
      "source": [
        "* Importing necessary libraries and few regression models <br>\n",
        "This Regression module uses few of the most popoular Regression techniques"
      ],
      "metadata": {
        "id": "VJFXwGrrCvo2"
      }
    },
    {
      "cell_type": "code",
      "execution_count": 3,
      "metadata": {
        "id": "dYYs8hVOCkWE"
      },
      "outputs": [],
      "source": [
        "from sklearn.model_selection import train_test_split\n",
        "from sklearn.preprocessing import StandardScaler\n",
        "from sklearn.metrics import mean_squared_error\n",
        "from sklearn.linear_model import LinearRegression\n",
        "from sklearn.tree import DecisionTreeRegressor\n",
        "from sklearn.ensemble import RandomForestRegressor"
      ]
    },
    {
      "cell_type": "markdown",
      "source": [
        "* Making class of regressors <br>\n",
        "Currenlty I am using linear regression, decision tree and random forest regressor techniques"
      ],
      "metadata": {
        "id": "dXmbOlhlDJbR"
      }
    },
    {
      "cell_type": "code",
      "source": [
        "class RegressionModels:\n",
        "    def __init__(self, data, target):\n",
        "        self.X = data\n",
        "        self.y = target\n",
        "    \n",
        "    def split_data(self, test_size=0.2, random_state=42): #keeping test size to 20%\n",
        "        self.X_train, self.X_test, self.y_train, self.y_test = train_test_split(self.X, self.y, test_size=test_size,random_state=random_state)\n",
        "    \n",
        "    def scale_data(self): #scaling the train and test dataset, if required.\n",
        "        scaler = StandardScaler()\n",
        "        self.X_train = scaler.fit_transform(self.X_train)\n",
        "        self.X_test = scaler.transform(self.X_test)\n",
        "    \n",
        "    def linear_regression(self): #linear regressor\n",
        "        lr = LinearRegression()\n",
        "        lr.fit(self.X_train, self.y_train)\n",
        "        y_pred = lr.predict(self.X_test)\n",
        "        return mean_squared_error(self.y_test, y_pred)\n",
        "    \n",
        "    def decision_tree_regression(self, max_depth=None): #decision tree regression\n",
        "        dt = DecisionTreeRegressor(max_depth=max_depth)\n",
        "        dt.fit(self.X_train, self.y_train)\n",
        "        y_pred = dt.predict(self.X_test)\n",
        "        return mean_squared_error(self.y_test, y_pred)\n",
        "    \n",
        "    def random_forest_regression(self, n_estimators=100, max_depth=None): #e=random forest regression\n",
        "        rf = RandomForestRegressor(n_estimators=n_estimators, max_depth=max_depth)\n",
        "        rf.fit(self.X_train, self.y_train)\n",
        "        y_pred = rf.predict(self.X_test)\n",
        "        return mean_squared_error(self.y_test, y_pred)"
      ],
      "metadata": {
        "id": "hwOXAkDsDdrc"
      },
      "execution_count": 4,
      "outputs": []
    }
  ]
}