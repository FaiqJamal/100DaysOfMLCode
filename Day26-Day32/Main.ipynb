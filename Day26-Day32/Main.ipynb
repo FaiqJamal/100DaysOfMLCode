{
  "nbformat": 4,
  "nbformat_minor": 0,
  "metadata": {
    "colab": {
      "provenance": []
    },
    "kernelspec": {
      "name": "python3",
      "display_name": "Python 3"
    },
    "language_info": {
      "name": "python"
    }
  },
  "cells": [
    {
      "cell_type": "markdown",
      "source": [
        "* Testing the RegressionModel.ipynb"
      ],
      "metadata": {
        "id": "j1T-sE2eEazT"
      }
    },
    {
      "cell_type": "code",
      "execution_count": null,
      "metadata": {
        "id": "zq2XMnTfEZMM"
      },
      "outputs": [],
      "source": [
        "from RegressionModel import RegressionModel\n",
        "from sklearn.datasets import load_diabetes\n",
        "\n",
        "# load data of diabetes for example\n",
        "diabetes = load_diabetes()\n",
        "X = diabetes.data\n",
        "y = diabetes.target\n",
        "\n",
        "# creating an object of RegressionModel and passing the features and target dataframe(s) as parameters\n",
        "reg_model = RegressionModel(X, y)\n",
        "\n",
        "# spliting data into training and testing sets\n",
        "reg_model.split_data()\n",
        "\n",
        "# scaling the data entries\n",
        "reg_model.scale_data()\n",
        "\n",
        "# Using the linear regression model from the module\n",
        "linear_score = reg_model.linear_regression()\n",
        "\n",
        "#Using the decision tree regression model from the module\n",
        "dtree_score = reg_model.decision_tree_regression(max_depth=5)\n",
        "\n",
        "#Using the random forest regression model from the module\n",
        "rf_score = reg_model.random_forest_regression(n_estimators=100)\n",
        "\n",
        "# printing out the scores of each regressor\n",
        "print(\"Linear Regression Score:\", linear_score)\n",
        "print(\"Decision Tree Regression Score:\", dtree_score)\n",
        "print(\"Random Forest Regression Score:\", rf_score)\n"
      ]
    }
  ]
}