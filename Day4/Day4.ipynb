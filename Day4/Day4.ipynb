{
  "nbformat": 4,
  "nbformat_minor": 0,
  "metadata": {
    "colab": {
      "provenance": []
    },
    "kernelspec": {
      "name": "python3",
      "display_name": "Python 3"
    },
    "language_info": {
      "name": "python"
    }
  },
  "cells": [
    {
      "cell_type": "markdown",
      "source": [
        "**Create a Class named \"Dog\" and make a function of \"bark\"**"
      ],
      "metadata": {
        "id": "vbyF2957g_Hk"
      }
    },
    {
      "cell_type": "code",
      "execution_count": 1,
      "metadata": {
        "id": "9aysBsfPgrgI"
      },
      "outputs": [],
      "source": [
        "class Dog:\n",
        "    def __init__(self, name, breed):\n",
        "        self.name = name\n",
        "        self.breed = breed\n",
        "        \n",
        "    def bark(self):\n",
        "        print(f\"{self.name} says 'Woof!'\")"
      ]
    },
    {
      "cell_type": "markdown",
      "source": [
        "**Initialize two objects of Dog**"
      ],
      "metadata": {
        "id": "pwra08rOhLTe"
      }
    },
    {
      "cell_type": "code",
      "source": [
        "dog1 = Dog(\"Fido\", \"Labrador\")\n",
        "dog2 = Dog(\"Buddy\", \"Poodle\")\n"
      ],
      "metadata": {
        "id": "Wo1c769YhbCx"
      },
      "execution_count": 2,
      "outputs": []
    },
    {
      "cell_type": "markdown",
      "source": [
        "**Call the function**"
      ],
      "metadata": {
        "id": "nQ04RVK1hcqp"
      }
    },
    {
      "cell_type": "code",
      "source": [
        "# call the bark method on each dog object\n",
        "dog1.bark()\n",
        "dog2.bark()"
      ],
      "metadata": {
        "colab": {
          "base_uri": "https://localhost:8080/"
        },
        "id": "_gtqhrGdhbmG",
        "outputId": "a33837c0-466b-4fdb-9bd9-0890728a8201"
      },
      "execution_count": 3,
      "outputs": [
        {
          "output_type": "stream",
          "name": "stdout",
          "text": [
            "Fido says 'Woof!'\n",
            "Buddy says 'Woof!'\n"
          ]
        }
      ]
    }
  ]
}