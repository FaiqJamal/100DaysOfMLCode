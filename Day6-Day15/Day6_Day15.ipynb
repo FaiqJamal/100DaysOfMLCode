{
  "nbformat": 4,
  "nbformat_minor": 0,
  "metadata": {
    "colab": {
      "provenance": []
    },
    "kernelspec": {
      "name": "python3",
      "display_name": "Python 3"
    },
    "language_info": {
      "name": "python"
    }
  },
  "cells": [
    {
      "cell_type": "markdown",
      "source": [
        "# **“Mastering Object-Oriented Programming in Python: A Comprehensive Guide”**"
      ],
      "metadata": {
        "id": "IJeIFOBvuXIy"
      }
    },
    {
      "cell_type": "markdown",
      "source": [
        "Object-oriented programming (OOP) is a powerful programming paradigm that allows developers to write reusable and modular code. Python, being a high-level and easy-to-learn language, is a great choice for learning OOP concepts. In this article, we’ll cover everything you need to know about OOP in Python, from classes and objects to inheritance and polymorphism."
      ],
      "metadata": {
        "id": "Pi0Eo5cSudKd"
      }
    },
    {
      "cell_type": "markdown",
      "source": [
        "**Classes and Objects**\n",
        "\n",
        "Classes are the blueprints for creating objects. In Python, you can define a class using the class keyword. Here's an example:"
      ],
      "metadata": {
        "id": "bMs1W3ZTuf4b"
      }
    },
    {
      "cell_type": "code",
      "execution_count": null,
      "metadata": {
        "id": "Pl0xQVPZuSOx"
      },
      "outputs": [],
      "source": [
        "class Car:\n",
        "    def __init__(self, make, model, year):\n",
        "        self.make = make\n",
        "        self.model = model\n",
        "        self.year = year\n",
        "    \n",
        "    def info(self):\n",
        "        print(f\"{self.year} {self.make} {self.model}\")"
      ]
    },
    {
      "cell_type": "markdown",
      "source": [
        "In this example, we define a Car class with three properties (make, model, and year) and a method (info) that prints the car's information. To create an object of this class, we can simply call its constructor:\n"
      ],
      "metadata": {
        "id": "QzJDJXSMunyt"
      }
    },
    {
      "cell_type": "code",
      "source": [
        "my_car = Car(\"Tesla\", \"Model S\", 2022)\n",
        "my_car.info()"
      ],
      "metadata": {
        "id": "u4VwQp6Xupe5"
      },
      "execution_count": null,
      "outputs": []
    },
    {
      "cell_type": "markdown",
      "source": [
        "This will create a new Car object with the specified properties and print its information."
      ],
      "metadata": {
        "id": "1bqeryjnuw_M"
      }
    },
    {
      "cell_type": "markdown",
      "source": [
        "**Inheritance**\n",
        "\n",
        "Inheritance is a mechanism that allows you to create a new class based on an existing class. The new class (called the derived class) inherits all the properties and methods of the existing class (called the base class). Here’s an example:"
      ],
      "metadata": {
        "id": "gEWWbnuTu07m"
      }
    },
    {
      "cell_type": "code",
      "source": [
        "class ElectricCar(Car):\n",
        "    def __init__(self, make, model, year, battery_capacity):\n",
        "        super().__init__(make, model, year)\n",
        "        self.battery_capacity = battery_capacity\n",
        "    \n",
        "    def charge(self):\n",
        "        print(f\"Charging the {self.make} {self.model}...\")"
      ],
      "metadata": {
        "id": "lBu7CfYLu2fB"
      },
      "execution_count": null,
      "outputs": []
    },
    {
      "cell_type": "markdown",
      "source": [
        "In this example, we define a ElectricCar class that inherits from the Car class. The ElectricCar class has an additional property (battery_capacity) and a method (charge) that's specific to electric cars.\n",
        "\n",
        "To create an object of this class, we can call its constructor and pass the required arguments."
      ],
      "metadata": {
        "id": "EgLo9EYLu6iF"
      }
    },
    {
      "cell_type": "code",
      "source": [
        "my_electric_car = ElectricCar(\"Tesla\", \"Model S\", 2022, \"100 kWh\")\n",
        "my_electric_car.charge()"
      ],
      "metadata": {
        "id": "ULwJVRYru7Pu"
      },
      "execution_count": null,
      "outputs": []
    },
    {
      "cell_type": "markdown",
      "source": [
        "This will create a new ElectricCar object with the specified properties and call its charge method."
      ],
      "metadata": {
        "id": "wskxGlQRu9Xq"
      }
    },
    {
      "cell_type": "markdown",
      "source": [
        "**Polymorphism**\n",
        "\n",
        "Polymorphism is a concept that allows you to use the same interface (i.e., method or property) for different objects. This means that you can have multiple classes with the same method name, but each class implements the method differently. Here’s an example:"
      ],
      "metadata": {
        "id": "U34tfeW9vIdp"
      }
    },
    {
      "cell_type": "code",
      "source": [
        "class Animal:\n",
        "    def speak(self):\n",
        "        pass\n",
        "    \n",
        "class Dog(Animal):\n",
        "    def speak(self):\n",
        "        return \"Woof!\"\n",
        "    \n",
        "class Cat(Animal):\n",
        "    def speak(self):\n",
        "        return \"Meow!\""
      ],
      "metadata": {
        "id": "hvbbWtDwvLou"
      },
      "execution_count": null,
      "outputs": []
    },
    {
      "cell_type": "markdown",
      "source": [
        "In this example, we define an Animal class with a speak method that doesn't do anything (it's just a placeholder). We then define two derived classes (Dog and Cat) that override the speak method and return different values.\n",
        "\n",
        "To use polymorphism, we can create objects of each class and call their speak methods:"
      ],
      "metadata": {
        "id": "ur7u_XTyvMVC"
      }
    },
    {
      "cell_type": "code",
      "source": [
        "my_dog = Dog()\n",
        "my_cat = Cat()\n",
        "\n",
        "print(my_dog.speak())\n",
        "print(my_cat.speak())"
      ],
      "metadata": {
        "id": "4Gx3LGPevO6G"
      },
      "execution_count": null,
      "outputs": []
    },
    {
      "cell_type": "markdown",
      "source": [
        "This will print “Woof!” and “Meow!” respectively."
      ],
      "metadata": {
        "id": "f38qw4pjvRaN"
      }
    },
    {
      "cell_type": "markdown",
      "source": [
        "**Conclusion**\n",
        "\n",
        "In this article, we’ve covered the basics of OOP in Python, including classes, objects, inheritance, and polymorphism. We’ve seen how to define classes and create objects, how to use inheritance to create new classes based on existing ones, and how to use polymorphism to write flexible and reusable code.\n",
        "\n",
        "By mastering OOP in Python, you’ll be able to write cleaner, more organized, and more efficient code. You’ll also be able to take advantage of Python’s built-in support for OOP, which includes features like encapsulation, abstraction, and interfaces.\n",
        "\n",
        "If you’re new to OOP, I recommend you to practice and experiment with the concepts we’ve covered here. Try creating your own classes and objects, and see how you can use inheritance and polymorphism to make your code more flexible and adaptable. With practice, you’ll be able to write elegant and effective code that’s easy to read and maintain"
      ],
      "metadata": {
        "id": "MVaZGl1kvTS0"
      }
    }
  ]
}