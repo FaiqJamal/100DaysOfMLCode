{
  "nbformat": 4,
  "nbformat_minor": 0,
  "metadata": {
    "colab": {
      "provenance": []
    },
    "kernelspec": {
      "name": "python3",
      "display_name": "Python 3"
    },
    "language_info": {
      "name": "python"
    }
  },
  "cells": [
    {
      "cell_type": "markdown",
      "source": [
        "Testing the Classification.ipynb"
      ],
      "metadata": {
        "id": "pfl_m9vL-n5g"
      }
    },
    {
      "cell_type": "code",
      "source": [
        "import pandas as pd\n",
        "from sklearn.datasets import load_iris\n",
        "from ClassificationModels import ClassificationModels #importing the module\n",
        "\n",
        "# Load the Iris dataset for example to test the functions\n",
        "iris = load_iris()\n",
        "X = iris.data\n",
        "y = iris.target\n",
        "\n",
        "# Creating a ClassificationModels object and passing the features and target dataframe(s) as parameters\n",
        "c_model = ClassificationModels(X, y)\n",
        "\n",
        "# Spliting the data into training and testing sets\n",
        "c_model.split_data()\n",
        "\n",
        "# Scaling the data entries\n",
        "c_model.scale_data()\n",
        "\n",
        "# Using the KNN classifier from the module\n",
        "knn_acc = cm.knn_classifier()\n",
        "print('KNN accuracy:', knn_acc)\n",
        "\n",
        "# Using the Decision Tree classifier from the module\n",
        "dtree_acc = cm.decision_tree_classifier()\n",
        "print('Decision Tree accuracy:', dtree_acc)\n",
        "\n",
        "# Using the MLP classifier from the module\n",
        "mlp_acc = cm.mlp_classifier()\n",
        "print('MLP accuracy:', mlp_acc)\n",
        "\n",
        "# Using the Random Forest classifier from the module\n",
        "rf_acc = cm.random_forest_classifier()\n",
        "print('Random Forest accuracy:', rf_acc)\n"
      ],
      "metadata": {
        "id": "i5oeaY-n_vJH"
      },
      "execution_count": null,
      "outputs": []
    }
  ]
}