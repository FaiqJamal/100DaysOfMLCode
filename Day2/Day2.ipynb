{
  "nbformat": 4,
  "nbformat_minor": 0,
  "metadata": {
    "colab": {
      "provenance": []
    },
    "kernelspec": {
      "name": "python3",
      "display_name": "Python 3"
    },
    "language_info": {
      "name": "python"
    }
  },
  "cells": [
    {
      "cell_type": "markdown",
      "source": [
        "**Variables and Inputs**"
      ],
      "metadata": {
        "id": "JZvI2AgWBO4P"
      }
    },
    {
      "cell_type": "code",
      "execution_count": 21,
      "metadata": {
        "id": "eRDqCWW6BFOw",
        "colab": {
          "base_uri": "https://localhost:8080/"
        },
        "outputId": "c18eb381-7c47-4bec-ef54-ca96218a95e7"
      },
      "outputs": [
        {
          "name": "stdout",
          "output_type": "stream",
          "text": [
            "What is your name? Faiq Jamal\n",
            "What is your age? 21\n",
            "What is your height in meters? 1.65\n"
          ]
        }
      ],
      "source": [
        "name = input(\"What is your name? \")\n",
        "age = int(input(\"What is your age? \"))\n",
        "height = float(input(\"What is your height in meters? \"))\n"
      ]
    },
    {
      "cell_type": "markdown",
      "source": [
        "**Conditional Statements**"
      ],
      "metadata": {
        "id": "nl1NNvBXewa8"
      }
    },
    {
      "cell_type": "code",
      "source": [
        "if age >= 18:\n",
        "    print(\"You are eligible to vote.\")\n",
        "else:\n",
        "    print(\"You are not eligible to vote yet.\")"
      ],
      "metadata": {
        "colab": {
          "base_uri": "https://localhost:8080/"
        },
        "id": "px2r6Tk0e0IT",
        "outputId": "dd90761f-f6f6-42c9-b3fd-c42f205b4812"
      },
      "execution_count": 22,
      "outputs": [
        {
          "output_type": "stream",
          "name": "stdout",
          "text": [
            "You are eligible to vote.\n"
          ]
        }
      ]
    },
    {
      "cell_type": "markdown",
      "source": [
        "**Arithmetic Operators**"
      ],
      "metadata": {
        "id": "iIk5t8bce3x7"
      }
    },
    {
      "cell_type": "code",
      "source": [
        "x = 5\n",
        "y = 2\n",
        "print(f\"{x} + {y} = {x + y}\")\n",
        "print(f\"{x} - {y} = {x - y}\")\n",
        "print(f\"{x} * {y} = {x * y}\")\n",
        "print(f\"{x} / {y} = {x / y}\")\n",
        "print(f\"{x} // {y} = {x // y}\")\n",
        "print(f\"{x} % {y} = {x % y}\")\n",
        "print(f\"{x} ** {y} = {x ** y}\")"
      ],
      "metadata": {
        "colab": {
          "base_uri": "https://localhost:8080/"
        },
        "id": "DFbmP2Rfe53t",
        "outputId": "aa6cb149-daa5-40f0-92b7-47a8e73d2260"
      },
      "execution_count": 23,
      "outputs": [
        {
          "output_type": "stream",
          "name": "stdout",
          "text": [
            "5 + 2 = 7\n",
            "5 - 2 = 3\n",
            "5 * 2 = 10\n",
            "5 / 2 = 2.5\n",
            "5 // 2 = 2\n",
            "5 % 2 = 1\n",
            "5 ** 2 = 25\n"
          ]
        }
      ]
    },
    {
      "cell_type": "markdown",
      "source": [
        "**Logical Operators**"
      ],
      "metadata": {
        "id": "xtndyI7ue_aZ"
      }
    },
    {
      "cell_type": "code",
      "source": [
        "a = True\n",
        "b = False\n",
        "print(f\"{a} and {b} = {a and b}\")\n",
        "print(f\"{a} or {b} = {a or b}\")\n",
        "print(f\"not {a} = {not a}\")\n"
      ],
      "metadata": {
        "colab": {
          "base_uri": "https://localhost:8080/"
        },
        "id": "I0Qi4sW8fEVf",
        "outputId": "a24054ad-7a3d-443d-8929-de54efea29c0"
      },
      "execution_count": 24,
      "outputs": [
        {
          "output_type": "stream",
          "name": "stdout",
          "text": [
            "True and False = False\n",
            "True or False = True\n",
            "not True = False\n"
          ]
        }
      ]
    },
    {
      "cell_type": "markdown",
      "source": [
        "**List, Tuple, Set, Dictionary**"
      ],
      "metadata": {
        "id": "OL887qnJfIxi"
      }
    },
    {
      "cell_type": "code",
      "source": [
        "# Lists\n",
        "fruits = [\"apple\", \"banana\", \"cherry\"]\n",
        "print(fruits)\n",
        "print(fruits[1])\n",
        "fruits[1] = \"kiwi\"\n",
        "print(fruits)\n",
        "fruits.append(\"orange\")\n",
        "print(fruits)\n",
        "fruits.remove(\"cherry\")\n",
        "print(fruits)\n",
        "\n",
        "# Tuples\n",
        "colors = (\"red\", \"green\", \"blue\")\n",
        "print(colors)\n",
        "print(colors[1])\n",
        "\n",
        "# Sets\n",
        "numbers = {1, 2, 3, 4, 5}\n",
        "print(numbers)\n",
        "numbers.add(6)\n",
        "print(numbers)\n",
        "numbers.remove(3)\n",
        "print(numbers)\n",
        "# Dictionaries\n",
        "person = {\"name\": \"Alice\", \"age\": 30, \"city\": \"New York\"}\n",
        "print(person)\n",
        "print(person[\"name\"])\n",
        "person[\"age\"] = 31\n",
        "print(person)\n",
        "person[\"country\"] = \"USA\"\n",
        "print(person)"
      ],
      "metadata": {
        "colab": {
          "base_uri": "https://localhost:8080/"
        },
        "id": "xMtMeX9afOz-",
        "outputId": "c9678d7b-4976-46c5-8bee-8354cffd29b8"
      },
      "execution_count": 25,
      "outputs": [
        {
          "output_type": "stream",
          "name": "stdout",
          "text": [
            "['apple', 'banana', 'cherry']\n",
            "banana\n",
            "['apple', 'kiwi', 'cherry']\n",
            "['apple', 'kiwi', 'cherry', 'orange']\n",
            "['apple', 'kiwi', 'orange']\n",
            "('red', 'green', 'blue')\n",
            "green\n",
            "{1, 2, 3, 4, 5}\n",
            "{1, 2, 3, 4, 5, 6}\n",
            "{1, 2, 4, 5, 6}\n",
            "{'name': 'Alice', 'age': 30, 'city': 'New York'}\n",
            "Alice\n",
            "{'name': 'Alice', 'age': 31, 'city': 'New York'}\n",
            "{'name': 'Alice', 'age': 31, 'city': 'New York', 'country': 'USA'}\n"
          ]
        }
      ]
    },
    {
      "cell_type": "markdown",
      "source": [
        "**Strings Manipulation**"
      ],
      "metadata": {
        "id": "HAatrJGufbOA"
      }
    },
    {
      "cell_type": "code",
      "source": [
        "# String manipulation\n",
        "message = f\"Hi, my name is {name}, I am {age} years old, and I am {height:.2f} meters tall.\"\n",
        "print(message)\n",
        "print(message.upper())\n",
        "print(message.lower())\n",
        "print(message.capitalize())\n",
        "print(message.replace(\"name\", \"full name\"))"
      ],
      "metadata": {
        "colab": {
          "base_uri": "https://localhost:8080/"
        },
        "id": "5x2OTDVOfocs",
        "outputId": "eb27ffea-7c64-48fe-d638-d9ec91675604"
      },
      "execution_count": 26,
      "outputs": [
        {
          "output_type": "stream",
          "name": "stdout",
          "text": [
            "Hi, my name is Faiq Jamal, I am 21 years old, and I am 1.65 meters tall.\n",
            "HI, MY NAME IS FAIQ JAMAL, I AM 21 YEARS OLD, AND I AM 1.65 METERS TALL.\n",
            "hi, my name is faiq jamal, i am 21 years old, and i am 1.65 meters tall.\n",
            "Hi, my name is faiq jamal, i am 21 years old, and i am 1.65 meters tall.\n",
            "Hi, my full name is Faiq Jamal, I am 21 years old, and I am 1.65 meters tall.\n"
          ]
        }
      ]
    },
    {
      "cell_type": "markdown",
      "source": [
        "**For and While Loop**"
      ],
      "metadata": {
        "id": "dI5u8jWHnzBX"
      }
    },
    {
      "cell_type": "code",
      "source": [
        "# For loop\n",
        "for i in range(5):\n",
        "    print(f\"Loop iteration {i+1}\")\n",
        "\n",
        "fruits = [\"apple\", \"banana\", \"cherry\"]\n",
        "for fruit in fruits:\n",
        "    print(fruit)\n",
        "\n",
        "# While loop\n",
        "counter = 0\n",
        "while counter < 5:\n",
        "    print(f\"Counter value: {counter}\")\n",
        "    counter += 1"
      ],
      "metadata": {
        "colab": {
          "base_uri": "https://localhost:8080/"
        },
        "id": "_yDN6SMan1YJ",
        "outputId": "2e0f1d28-26c8-4c0f-ed51-c4f4e1ea966c"
      },
      "execution_count": 27,
      "outputs": [
        {
          "output_type": "stream",
          "name": "stdout",
          "text": [
            "Loop iteration 1\n",
            "Loop iteration 2\n",
            "Loop iteration 3\n",
            "Loop iteration 4\n",
            "Loop iteration 5\n",
            "apple\n",
            "banana\n",
            "cherry\n",
            "Counter value: 0\n",
            "Counter value: 1\n",
            "Counter value: 2\n",
            "Counter value: 3\n",
            "Counter value: 4\n"
          ]
        }
      ]
    }
  ]
}