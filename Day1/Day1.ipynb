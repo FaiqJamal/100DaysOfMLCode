{
  "nbformat": 4,
  "nbformat_minor": 0,
  "metadata": {
    "colab": {
      "provenance": []
    },
    "kernelspec": {
      "name": "python3",
      "display_name": "Python 3"
    },
    "language_info": {
      "name": "python"
    }
  },
  "cells": [
    {
      "cell_type": "markdown",
      "source": [
        "**Variables**"
      ],
      "metadata": {
        "id": "JZvI2AgWBO4P"
      }
    },
    {
      "cell_type": "code",
      "execution_count": 18,
      "metadata": {
        "id": "eRDqCWW6BFOw"
      },
      "outputs": [],
      "source": [
        "name = \"Faiq\"\n",
        "age = 25\n",
        "height = 1.75"
      ]
    },
    {
      "cell_type": "markdown",
      "source": [
        "**User Input**"
      ],
      "metadata": {
        "id": "iSahVON_BRqK"
      }
    },
    {
      "cell_type": "code",
      "source": [
        "print(\"Enter your name:\")\n",
        "user_name = input()"
      ],
      "metadata": {
        "id": "3kIIa6G-BKbt",
        "colab": {
          "base_uri": "https://localhost:8080/"
        },
        "outputId": "c4d4716d-1f9a-439d-c8e9-69d6f3632056"
      },
      "execution_count": 19,
      "outputs": [
        {
          "name": "stdout",
          "output_type": "stream",
          "text": [
            "Enter your name:\n",
            "Faiq\n"
          ]
        }
      ]
    },
    {
      "cell_type": "markdown",
      "source": [
        "**Conditional Statements**"
      ],
      "metadata": {
        "id": "nl1NNvBXewa8"
      }
    },
    {
      "cell_type": "code",
      "source": [
        "if user_name == name:\n",
        "    print(f\"Welcome back, {user_name} !\")\n",
        "else:\n",
        "    print(\"Nice to meet you, \" + user_name + \"!\")"
      ],
      "metadata": {
        "colab": {
          "base_uri": "https://localhost:8080/"
        },
        "id": "px2r6Tk0e0IT",
        "outputId": "f3b7a7af-a9be-4494-b36f-1bd2762a1bed"
      },
      "execution_count": 20,
      "outputs": [
        {
          "output_type": "stream",
          "name": "stdout",
          "text": [
            "Welcome back, Faiq !\n"
          ]
        }
      ]
    },
    {
      "cell_type": "markdown",
      "source": [
        "**Arithmetic Operators**"
      ],
      "metadata": {
        "id": "iIk5t8bce3x7"
      }
    },
    {
      "cell_type": "code",
      "source": [
        "num1 = 10\n",
        "num2 = 5\n",
        "addition = num1 + num2\n",
        "subtraction = num1 - num2\n",
        "multiplication = num1 * num2\n",
        "division = num1 / num2\n",
        "remainder = num1 % num2"
      ],
      "metadata": {
        "id": "DFbmP2Rfe53t"
      },
      "execution_count": 12,
      "outputs": []
    },
    {
      "cell_type": "code",
      "source": [
        "print(\"Addition:\", addition)\n",
        "print(\"Subtraction:\", subtraction)\n",
        "print(\"Multiplication:\", multiplication)\n",
        "print(\"Division:\", division)\n",
        "print(\"Remainder:\", remainder)"
      ],
      "metadata": {
        "colab": {
          "base_uri": "https://localhost:8080/"
        },
        "id": "V_eYd5FGe8Dc",
        "outputId": "2ceb1c98-5f02-4215-ea65-540b0e87b346"
      },
      "execution_count": 13,
      "outputs": [
        {
          "output_type": "stream",
          "name": "stdout",
          "text": [
            "Addition: 15\n",
            "Subtraction: 5\n",
            "Multiplication: 50\n",
            "Division: 2.0\n",
            "Remainder: 0\n"
          ]
        }
      ]
    },
    {
      "cell_type": "markdown",
      "source": [
        "**Logical Operators**"
      ],
      "metadata": {
        "id": "xtndyI7ue_aZ"
      }
    },
    {
      "cell_type": "code",
      "source": [
        "a = True\n",
        "b = False\n",
        "print(\"a and b:\", a and b)\n",
        "print(\"a or b:\", a or b)\n",
        "print(\"not a:\", not a)"
      ],
      "metadata": {
        "colab": {
          "base_uri": "https://localhost:8080/"
        },
        "id": "I0Qi4sW8fEVf",
        "outputId": "3c188d76-678f-4c88-918a-0f8623405182"
      },
      "execution_count": 14,
      "outputs": [
        {
          "output_type": "stream",
          "name": "stdout",
          "text": [
            "a and b: False\n",
            "a or b: True\n",
            "not a: False\n"
          ]
        }
      ]
    },
    {
      "cell_type": "markdown",
      "source": [
        "**List, Tuple, Set, Dictionary**"
      ],
      "metadata": {
        "id": "OL887qnJfIxi"
      }
    },
    {
      "cell_type": "code",
      "source": [
        "# List\n",
        "fruits = [\"apple\", \"banana\", \"cherry\"]\n",
        "print(\"Fruits:\", fruits)\n",
        "\n",
        "# Tuple\n",
        "numbers = (1, 2, 3)\n",
        "print(\"Numbers:\", numbers)\n",
        "\n",
        "# Set\n",
        "squares = {1, 4, 9, 16}\n",
        "print(\"Squares:\", squares)\n",
        "\n",
        "# Dictionary\n",
        "person = {\n",
        "    \"name\": \"Faiq\",\n",
        "    \"age\": 21,\n",
        "    \"height\": 1.65\n",
        "}\n",
        "print(\"Person:\", person)\n",
        "\n"
      ],
      "metadata": {
        "colab": {
          "base_uri": "https://localhost:8080/"
        },
        "id": "xMtMeX9afOz-",
        "outputId": "a6d3baae-30e3-478b-9d3b-9dfe43b4f82d"
      },
      "execution_count": 15,
      "outputs": [
        {
          "output_type": "stream",
          "name": "stdout",
          "text": [
            "Fruits: ['apple', 'banana', 'cherry']\n",
            "Numbers: (1, 2, 3)\n",
            "Squares: {16, 1, 4, 9}\n",
            "Person: {'name': 'Faiq', 'age': 21, 'height': 1.65}\n"
          ]
        }
      ]
    },
    {
      "cell_type": "markdown",
      "source": [
        "**Strings Manipulation**"
      ],
      "metadata": {
        "id": "HAatrJGufbOA"
      }
    },
    {
      "cell_type": "code",
      "source": [
        "# Python program to demonstrate string manipulation\n",
        "\n",
        "# String concatenation\n",
        "str1 = \"Hello\"\n",
        "str2 = \"World\"\n",
        "message = str1 + \" \" + str2\n",
        "print(message)\n",
        "\n",
        "# String formatting\n",
        "name = \"Faiq\"\n",
        "age = 21\n",
        "height = 1.65\n",
        "print(\"My name is {}, I'm {} years old, and my height is {:.2f} meters.\".format(name, age, height))\n",
        "\n",
        "# String indexing and slicing\n",
        "text = \"Python is a great language\"\n",
        "print(\"First character:\", text[0])\n",
        "print(\"Last character:\", text[-1])\n",
        "print(\"Sliced text from index 7 to 12:\", text[7:12])\n",
        "\n",
        "# String methods\n",
        "text = \"   hello world   \"\n",
        "print(\"Original text:\", text)\n",
        "print(\"Length of text:\", len(text))\n",
        "print(\"Text in uppercase:\", text.upper())\n",
        "print(\"Text in lowercase:\", text.lower())\n",
        "print(\"Stripped text:\", text.strip())\n",
        "print(\"Replaced text:\", text.replace(\"hello\", \"hi\"))\n",
        "print(\"Split text into list of words:\", text.split())\n",
        "\n"
      ],
      "metadata": {
        "colab": {
          "base_uri": "https://localhost:8080/"
        },
        "id": "5x2OTDVOfocs",
        "outputId": "50294db1-f49f-4732-88a3-637d791be1b0"
      },
      "execution_count": 16,
      "outputs": [
        {
          "metadata": {
            "tags": null
          },
          "name": "stdout",
          "output_type": "stream",
          "text": [
            "Hello World\n",
            "My name is Faiq, I'm 21 years old, and my height is 1.65 meters.\n",
            "First character: P\n",
            "Last character: e\n",
            "Sliced text from index 7 to 12: is a \n",
            "Original text:    hello world   \n",
            "Length of text: 17\n",
            "Text in uppercase:    HELLO WORLD   \n",
            "Text in lowercase:    hello world   \n",
            "Stripped text: hello world\n",
            "Replaced text:    hi world   \n",
            "Split text into list of words: ['hello', 'world']\n"
          ]
        }
      ]
    }
  ]
}