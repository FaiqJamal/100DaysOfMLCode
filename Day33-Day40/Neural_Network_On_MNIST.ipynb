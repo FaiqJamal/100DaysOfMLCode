{
  "nbformat": 4,
  "nbformat_minor": 0,
  "metadata": {
    "colab": {
      "provenance": []
    },
    "kernelspec": {
      "name": "python3",
      "display_name": "Python 3"
    },
    "language_info": {
      "name": "python"
    }
  },
  "cells": [
    {
      "cell_type": "markdown",
      "source": [
        "# **TASK:** "
      ],
      "metadata": {
        "id": "TESA7hpUR3US"
      }
    },
    {
      "cell_type": "markdown",
      "source": [
        "*\tLoad and preprocess the MNIST dataset using Python."
      ],
      "metadata": {
        "id": "y_kpxeTySO-C"
      }
    },
    {
      "cell_type": "code",
      "execution_count": 71,
      "metadata": {
        "colab": {
          "base_uri": "https://localhost:8080/"
        },
        "id": "XIpt-a8r48pE",
        "outputId": "12ebc15d-f3c3-4a66-e8b2-7175c715b61c"
      },
      "outputs": [
        {
          "output_type": "stream",
          "name": "stdout",
          "text": [
            "(60000, 28, 28)\n",
            "(10000, 28, 28)\n"
          ]
        }
      ],
      "source": [
        "from keras.datasets import mnist\n",
        "import numpy as np\n",
        "import matplotlib.pyplot as plt\n",
        "data = mnist.load_data()\n",
        "(X_train, y_train), (X_test, y_test) = data\n",
        "X_train[0].shape\n",
        "print(X_train.shape)\n",
        "print(X_test.shape)"
      ]
    },
    {
      "cell_type": "code",
      "source": [
        "X_train = X_train.reshape(-1, 28*28) / 255.0\n",
        "X_test = X_test.reshape(-1, 28*28) / 255.0\n",
        "y_train = to_categorical(y_train)\n",
        "y_test = to_categorical(y_test)\n"
      ],
      "metadata": {
        "id": "kQ-A06sN54Dw"
      },
      "execution_count": 72,
      "outputs": []
    },
    {
      "cell_type": "markdown",
      "source": [
        "*\tBuild a neural network using Python and NumPy with <br>\n",
        "* * Different activation functions i.e., sigmoid, ReLu and hyperbolic tangent (tanh) function on hidden layers and softmax on output layer.\n",
        "\n",
        "\n",
        "\n",
        "* * Different sizes of hidden layers i.e., 32, 64, 128 and 256.  \n",
        "* *\tUse accuracy as evaluation metric. <br>\n",
        "*\tTrain and evaluate the performance of the neural network. \n"
      ],
      "metadata": {
        "id": "QcNRZENZSXs9"
      }
    },
    {
      "cell_type": "code",
      "source": [
        "from tensorflow import keras\n",
        "from keras import layers\n",
        "from keras.utils import to_categorical\n"
      ],
      "metadata": {
        "id": "Oiq0LFnu6Fnb"
      },
      "execution_count": 73,
      "outputs": []
    },
    {
      "cell_type": "code",
      "source": [
        "activation_functions=['relu','sigmoid','tanh']\n",
        "unit_sizes=[32,64,128,256]"
      ],
      "metadata": {
        "id": "eNzvcObTCv2U"
      },
      "execution_count": 74,
      "outputs": []
    },
    {
      "cell_type": "code",
      "source": [
        "activation_dictionary = {}\n",
        "best_score = 0\n",
        "\n",
        "for function in activation_functions:\n",
        "    print(\"Activation Function: \", function)\n",
        "    activation_dictionary[function] = []\n",
        "    \n",
        "    for size in unit_sizes:\n",
        "        print(\"Current Hidden Layer  Size: \", size)\n",
        "        \n",
        "        model = keras.Sequential([\n",
        "            layers.Dense(32, activation=function, input_dim=784),\n",
        "            layers.Dense(size, activation=function),\n",
        "            layers.Dense(10, activation=\"softmax\"),\n",
        "        ])\n",
        "        \n",
        "        model.compile(\n",
        "            optimizer='adam',\n",
        "            loss='categorical_crossentropy',\n",
        "            metrics=['accuracy']\n",
        "        )\n",
        "        \n",
        "        model.fit(\n",
        "            X_train, y_train,\n",
        "            validation_data=(X_test, y_test),\n",
        "            batch_size=64,\n",
        "            epochs=10\n",
        "        )\n",
        "        \n",
        "        _, score = model.evaluate(X_test, y_test)\n",
        "        \n",
        "        print(\"Test Accuracy: \", score)\n",
        "        activation_dictionary[function].append(score)\n",
        "        \n",
        "        if score > best_score:\n",
        "            best_score = score\n",
        "            best_model = model\n"
      ],
      "metadata": {
        "colab": {
          "base_uri": "https://localhost:8080/"
        },
        "id": "wbXoChX6D6hv",
        "outputId": "1f7c0099-35f1-4994-e2e5-ff13d46f3b77"
      },
      "execution_count": 75,
      "outputs": [
        {
          "output_type": "stream",
          "name": "stdout",
          "text": [
            "Activation Function:  relu\n",
            "Current Hidden Layer  Size:  32\n",
            "Epoch 1/10\n",
            "938/938 [==============================] - 5s 4ms/step - loss: 0.4112 - accuracy: 0.8833 - val_loss: 0.2102 - val_accuracy: 0.9406\n",
            "Epoch 2/10\n",
            "938/938 [==============================] - 3s 3ms/step - loss: 0.1866 - accuracy: 0.9458 - val_loss: 0.1730 - val_accuracy: 0.9488\n",
            "Epoch 3/10\n",
            "938/938 [==============================] - 3s 3ms/step - loss: 0.1496 - accuracy: 0.9559 - val_loss: 0.1456 - val_accuracy: 0.9552\n",
            "Epoch 4/10\n",
            "938/938 [==============================] - 3s 3ms/step - loss: 0.1261 - accuracy: 0.9622 - val_loss: 0.1300 - val_accuracy: 0.9627\n",
            "Epoch 5/10\n",
            "938/938 [==============================] - 4s 4ms/step - loss: 0.1097 - accuracy: 0.9672 - val_loss: 0.1220 - val_accuracy: 0.9635\n",
            "Epoch 6/10\n",
            "938/938 [==============================] - 3s 3ms/step - loss: 0.0983 - accuracy: 0.9701 - val_loss: 0.1070 - val_accuracy: 0.9689\n",
            "Epoch 7/10\n",
            "938/938 [==============================] - 3s 3ms/step - loss: 0.0882 - accuracy: 0.9732 - val_loss: 0.1151 - val_accuracy: 0.9658\n",
            "Epoch 8/10\n",
            "938/938 [==============================] - 3s 3ms/step - loss: 0.0801 - accuracy: 0.9752 - val_loss: 0.1114 - val_accuracy: 0.9680\n",
            "Epoch 9/10\n",
            "938/938 [==============================] - 4s 4ms/step - loss: 0.0731 - accuracy: 0.9772 - val_loss: 0.0994 - val_accuracy: 0.9693\n",
            "Epoch 10/10\n",
            "938/938 [==============================] - 3s 3ms/step - loss: 0.0681 - accuracy: 0.9791 - val_loss: 0.1109 - val_accuracy: 0.9681\n",
            "313/313 [==============================] - 1s 2ms/step - loss: 0.1109 - accuracy: 0.9681\n",
            "Test Accuracy:  0.9681000113487244\n",
            "Current Hidden Layer  Size:  64\n",
            "Epoch 1/10\n",
            "938/938 [==============================] - 4s 3ms/step - loss: 0.3651 - accuracy: 0.8965 - val_loss: 0.2127 - val_accuracy: 0.9368\n",
            "Epoch 2/10\n",
            "938/938 [==============================] - 3s 3ms/step - loss: 0.1830 - accuracy: 0.9463 - val_loss: 0.1533 - val_accuracy: 0.9545\n",
            "Epoch 3/10\n",
            "938/938 [==============================] - 4s 4ms/step - loss: 0.1416 - accuracy: 0.9576 - val_loss: 0.1491 - val_accuracy: 0.9542\n",
            "Epoch 4/10\n",
            "938/938 [==============================] - 3s 3ms/step - loss: 0.1181 - accuracy: 0.9645 - val_loss: 0.1263 - val_accuracy: 0.9606\n",
            "Epoch 5/10\n",
            "938/938 [==============================] - 3s 3ms/step - loss: 0.1009 - accuracy: 0.9694 - val_loss: 0.1109 - val_accuracy: 0.9660\n",
            "Epoch 6/10\n",
            "938/938 [==============================] - 3s 3ms/step - loss: 0.0898 - accuracy: 0.9722 - val_loss: 0.1145 - val_accuracy: 0.9655\n",
            "Epoch 7/10\n",
            "938/938 [==============================] - 4s 4ms/step - loss: 0.0808 - accuracy: 0.9750 - val_loss: 0.1081 - val_accuracy: 0.9667\n",
            "Epoch 8/10\n",
            "938/938 [==============================] - 4s 4ms/step - loss: 0.0715 - accuracy: 0.9786 - val_loss: 0.1008 - val_accuracy: 0.9678\n",
            "Epoch 9/10\n",
            "938/938 [==============================] - 3s 3ms/step - loss: 0.0664 - accuracy: 0.9793 - val_loss: 0.1081 - val_accuracy: 0.9686\n",
            "Epoch 10/10\n",
            "938/938 [==============================] - 3s 3ms/step - loss: 0.0581 - accuracy: 0.9821 - val_loss: 0.1059 - val_accuracy: 0.9681\n",
            "313/313 [==============================] - 1s 2ms/step - loss: 0.1059 - accuracy: 0.9681\n",
            "Test Accuracy:  0.9681000113487244\n",
            "Current Hidden Layer  Size:  128\n",
            "Epoch 1/10\n",
            "938/938 [==============================] - 6s 5ms/step - loss: 0.3645 - accuracy: 0.8959 - val_loss: 0.1992 - val_accuracy: 0.9386\n",
            "Epoch 2/10\n",
            "938/938 [==============================] - 3s 3ms/step - loss: 0.1705 - accuracy: 0.9492 - val_loss: 0.1395 - val_accuracy: 0.9575\n",
            "Epoch 3/10\n",
            "938/938 [==============================] - 3s 3ms/step - loss: 0.1267 - accuracy: 0.9613 - val_loss: 0.1253 - val_accuracy: 0.9618\n",
            "Epoch 4/10\n",
            "938/938 [==============================] - 4s 4ms/step - loss: 0.1060 - accuracy: 0.9665 - val_loss: 0.1078 - val_accuracy: 0.9666\n",
            "Epoch 5/10\n",
            "938/938 [==============================] - 3s 4ms/step - loss: 0.0887 - accuracy: 0.9726 - val_loss: 0.1064 - val_accuracy: 0.9682\n",
            "Epoch 6/10\n",
            "938/938 [==============================] - 3s 3ms/step - loss: 0.0769 - accuracy: 0.9761 - val_loss: 0.1030 - val_accuracy: 0.9685\n",
            "Epoch 7/10\n",
            "938/938 [==============================] - 3s 3ms/step - loss: 0.0689 - accuracy: 0.9782 - val_loss: 0.1093 - val_accuracy: 0.9673\n",
            "Epoch 8/10\n",
            "938/938 [==============================] - 4s 5ms/step - loss: 0.0599 - accuracy: 0.9808 - val_loss: 0.1004 - val_accuracy: 0.9703\n",
            "Epoch 9/10\n",
            "938/938 [==============================] - 3s 3ms/step - loss: 0.0540 - accuracy: 0.9825 - val_loss: 0.0943 - val_accuracy: 0.9720\n",
            "Epoch 10/10\n",
            "938/938 [==============================] - 3s 3ms/step - loss: 0.0480 - accuracy: 0.9844 - val_loss: 0.0984 - val_accuracy: 0.9711\n",
            "313/313 [==============================] - 1s 2ms/step - loss: 0.0984 - accuracy: 0.9711\n",
            "Test Accuracy:  0.9710999727249146\n",
            "Current Hidden Layer  Size:  256\n",
            "Epoch 1/10\n",
            "938/938 [==============================] - 5s 5ms/step - loss: 0.3436 - accuracy: 0.8988 - val_loss: 0.1789 - val_accuracy: 0.9447\n",
            "Epoch 2/10\n",
            "938/938 [==============================] - 3s 3ms/step - loss: 0.1587 - accuracy: 0.9525 - val_loss: 0.1421 - val_accuracy: 0.9559\n",
            "Epoch 3/10\n",
            "938/938 [==============================] - 3s 3ms/step - loss: 0.1176 - accuracy: 0.9649 - val_loss: 0.1204 - val_accuracy: 0.9620\n",
            "Epoch 4/10\n",
            "938/938 [==============================] - 3s 3ms/step - loss: 0.0961 - accuracy: 0.9705 - val_loss: 0.0962 - val_accuracy: 0.9708\n",
            "Epoch 5/10\n",
            "938/938 [==============================] - 4s 4ms/step - loss: 0.0803 - accuracy: 0.9748 - val_loss: 0.0971 - val_accuracy: 0.9709\n",
            "Epoch 6/10\n",
            "938/938 [==============================] - 3s 3ms/step - loss: 0.0694 - accuracy: 0.9779 - val_loss: 0.0921 - val_accuracy: 0.9726\n",
            "Epoch 7/10\n",
            "938/938 [==============================] - 3s 3ms/step - loss: 0.0605 - accuracy: 0.9812 - val_loss: 0.0923 - val_accuracy: 0.9737\n",
            "Epoch 8/10\n",
            "938/938 [==============================] - 3s 4ms/step - loss: 0.0525 - accuracy: 0.9828 - val_loss: 0.0958 - val_accuracy: 0.9727\n",
            "Epoch 9/10\n",
            "938/938 [==============================] - 4s 4ms/step - loss: 0.0476 - accuracy: 0.9848 - val_loss: 0.0950 - val_accuracy: 0.9734\n",
            "Epoch 10/10\n",
            "938/938 [==============================] - 3s 3ms/step - loss: 0.0418 - accuracy: 0.9865 - val_loss: 0.1002 - val_accuracy: 0.9729\n",
            "313/313 [==============================] - 1s 2ms/step - loss: 0.1002 - accuracy: 0.9729\n",
            "Test Accuracy:  0.9728999733924866\n",
            "Activation Function:  sigmoid\n",
            "Current Hidden Layer  Size:  32\n",
            "Epoch 1/10\n",
            "938/938 [==============================] - 4s 3ms/step - loss: 0.9839 - accuracy: 0.7862 - val_loss: 0.4103 - val_accuracy: 0.9021\n",
            "Epoch 2/10\n",
            "938/938 [==============================] - 4s 4ms/step - loss: 0.3362 - accuracy: 0.9113 - val_loss: 0.2760 - val_accuracy: 0.9244\n",
            "Epoch 3/10\n",
            "938/938 [==============================] - 3s 3ms/step - loss: 0.2489 - accuracy: 0.9317 - val_loss: 0.2254 - val_accuracy: 0.9363\n",
            "Epoch 4/10\n",
            "938/938 [==============================] - 3s 3ms/step - loss: 0.2027 - accuracy: 0.9434 - val_loss: 0.1921 - val_accuracy: 0.9457\n",
            "Epoch 5/10\n",
            "938/938 [==============================] - 3s 3ms/step - loss: 0.1733 - accuracy: 0.9508 - val_loss: 0.1709 - val_accuracy: 0.9503\n",
            "Epoch 6/10\n",
            "938/938 [==============================] - 4s 4ms/step - loss: 0.1517 - accuracy: 0.9565 - val_loss: 0.1539 - val_accuracy: 0.9558\n",
            "Epoch 7/10\n",
            "938/938 [==============================] - 3s 3ms/step - loss: 0.1347 - accuracy: 0.9617 - val_loss: 0.1497 - val_accuracy: 0.9557\n",
            "Epoch 8/10\n",
            "938/938 [==============================] - 3s 3ms/step - loss: 0.1216 - accuracy: 0.9648 - val_loss: 0.1387 - val_accuracy: 0.9585\n",
            "Epoch 9/10\n",
            "938/938 [==============================] - 3s 3ms/step - loss: 0.1107 - accuracy: 0.9679 - val_loss: 0.1319 - val_accuracy: 0.9598\n",
            "Epoch 10/10\n",
            "938/938 [==============================] - 4s 4ms/step - loss: 0.1016 - accuracy: 0.9706 - val_loss: 0.1289 - val_accuracy: 0.9618\n",
            "313/313 [==============================] - 1s 2ms/step - loss: 0.1289 - accuracy: 0.9618\n",
            "Test Accuracy:  0.9617999792098999\n",
            "Current Hidden Layer  Size:  64\n",
            "Epoch 1/10\n",
            "938/938 [==============================] - 5s 4ms/step - loss: 0.8417 - accuracy: 0.8065 - val_loss: 0.3413 - val_accuracy: 0.9103\n",
            "Epoch 2/10\n",
            "938/938 [==============================] - 3s 3ms/step - loss: 0.2850 - accuracy: 0.9202 - val_loss: 0.2448 - val_accuracy: 0.9316\n",
            "Epoch 3/10\n",
            "938/938 [==============================] - 3s 3ms/step - loss: 0.2186 - accuracy: 0.9366 - val_loss: 0.1979 - val_accuracy: 0.9422\n",
            "Epoch 4/10\n",
            "938/938 [==============================] - 4s 4ms/step - loss: 0.1836 - accuracy: 0.9467 - val_loss: 0.1777 - val_accuracy: 0.9478\n",
            "Epoch 5/10\n",
            "938/938 [==============================] - 3s 3ms/step - loss: 0.1597 - accuracy: 0.9536 - val_loss: 0.1631 - val_accuracy: 0.9524\n",
            "Epoch 6/10\n",
            "938/938 [==============================] - 3s 3ms/step - loss: 0.1421 - accuracy: 0.9584 - val_loss: 0.1513 - val_accuracy: 0.9557\n",
            "Epoch 7/10\n",
            "938/938 [==============================] - 3s 3ms/step - loss: 0.1287 - accuracy: 0.9622 - val_loss: 0.1447 - val_accuracy: 0.9565\n",
            "Epoch 8/10\n",
            "938/938 [==============================] - 4s 4ms/step - loss: 0.1176 - accuracy: 0.9660 - val_loss: 0.1352 - val_accuracy: 0.9590\n",
            "Epoch 9/10\n",
            "938/938 [==============================] - 3s 3ms/step - loss: 0.1086 - accuracy: 0.9679 - val_loss: 0.1322 - val_accuracy: 0.9583\n",
            "Epoch 10/10\n",
            "938/938 [==============================] - 3s 3ms/step - loss: 0.1006 - accuracy: 0.9700 - val_loss: 0.1261 - val_accuracy: 0.9610\n",
            "313/313 [==============================] - 1s 2ms/step - loss: 0.1261 - accuracy: 0.9610\n",
            "Test Accuracy:  0.9610000252723694\n",
            "Current Hidden Layer  Size:  128\n",
            "Epoch 1/10\n",
            "938/938 [==============================] - 5s 5ms/step - loss: 0.7746 - accuracy: 0.8042 - val_loss: 0.3154 - val_accuracy: 0.9113\n",
            "Epoch 2/10\n",
            "938/938 [==============================] - 3s 3ms/step - loss: 0.2679 - accuracy: 0.9236 - val_loss: 0.2262 - val_accuracy: 0.9338\n",
            "Epoch 3/10\n",
            "938/938 [==============================] - 3s 3ms/step - loss: 0.2070 - accuracy: 0.9395 - val_loss: 0.1890 - val_accuracy: 0.9433\n",
            "Epoch 4/10\n",
            "938/938 [==============================] - 3s 3ms/step - loss: 0.1739 - accuracy: 0.9490 - val_loss: 0.1776 - val_accuracy: 0.9456\n",
            "Epoch 5/10\n",
            "938/938 [==============================] - 4s 4ms/step - loss: 0.1517 - accuracy: 0.9551 - val_loss: 0.1532 - val_accuracy: 0.9516\n",
            "Epoch 6/10\n",
            "938/938 [==============================] - 3s 3ms/step - loss: 0.1342 - accuracy: 0.9602 - val_loss: 0.1451 - val_accuracy: 0.9562\n",
            "Epoch 7/10\n",
            "938/938 [==============================] - 3s 3ms/step - loss: 0.1221 - accuracy: 0.9643 - val_loss: 0.1343 - val_accuracy: 0.9570\n",
            "Epoch 8/10\n",
            "938/938 [==============================] - 3s 3ms/step - loss: 0.1112 - accuracy: 0.9666 - val_loss: 0.1302 - val_accuracy: 0.9598\n",
            "Epoch 9/10\n",
            "938/938 [==============================] - 4s 4ms/step - loss: 0.1023 - accuracy: 0.9694 - val_loss: 0.1278 - val_accuracy: 0.9597\n",
            "Epoch 10/10\n",
            "938/938 [==============================] - 3s 3ms/step - loss: 0.0956 - accuracy: 0.9708 - val_loss: 0.1252 - val_accuracy: 0.9636\n",
            "313/313 [==============================] - 1s 2ms/step - loss: 0.1252 - accuracy: 0.9636\n",
            "Test Accuracy:  0.9635999798774719\n",
            "Current Hidden Layer  Size:  256\n",
            "Epoch 1/10\n",
            "938/938 [==============================] - 4s 3ms/step - loss: 0.6866 - accuracy: 0.8189 - val_loss: 0.2849 - val_accuracy: 0.9177\n",
            "Epoch 2/10\n",
            "938/938 [==============================] - 3s 3ms/step - loss: 0.2463 - accuracy: 0.9284 - val_loss: 0.2074 - val_accuracy: 0.9389\n",
            "Epoch 3/10\n",
            "938/938 [==============================] - 4s 4ms/step - loss: 0.1891 - accuracy: 0.9443 - val_loss: 0.1707 - val_accuracy: 0.9473\n",
            "Epoch 4/10\n",
            "938/938 [==============================] - 3s 4ms/step - loss: 0.1552 - accuracy: 0.9550 - val_loss: 0.1469 - val_accuracy: 0.9528\n",
            "Epoch 5/10\n",
            "938/938 [==============================] - 3s 3ms/step - loss: 0.1335 - accuracy: 0.9610 - val_loss: 0.1372 - val_accuracy: 0.9592\n",
            "Epoch 6/10\n",
            "938/938 [==============================] - 3s 3ms/step - loss: 0.1170 - accuracy: 0.9650 - val_loss: 0.1212 - val_accuracy: 0.9622\n",
            "Epoch 7/10\n",
            "938/938 [==============================] - 4s 4ms/step - loss: 0.1045 - accuracy: 0.9686 - val_loss: 0.1233 - val_accuracy: 0.9612\n",
            "Epoch 8/10\n",
            "938/938 [==============================] - 3s 3ms/step - loss: 0.0945 - accuracy: 0.9714 - val_loss: 0.1100 - val_accuracy: 0.9650\n",
            "Epoch 9/10\n",
            "938/938 [==============================] - 3s 3ms/step - loss: 0.0870 - accuracy: 0.9740 - val_loss: 0.1069 - val_accuracy: 0.9673\n",
            "Epoch 10/10\n",
            "938/938 [==============================] - 3s 3ms/step - loss: 0.0806 - accuracy: 0.9748 - val_loss: 0.1040 - val_accuracy: 0.9671\n",
            "313/313 [==============================] - 1s 2ms/step - loss: 0.1040 - accuracy: 0.9671\n",
            "Test Accuracy:  0.9671000242233276\n",
            "Activation Function:  tanh\n",
            "Current Hidden Layer  Size:  32\n",
            "Epoch 1/10\n",
            "938/938 [==============================] - 5s 4ms/step - loss: 0.4069 - accuracy: 0.8893 - val_loss: 0.2196 - val_accuracy: 0.9354\n",
            "Epoch 2/10\n",
            "938/938 [==============================] - 3s 3ms/step - loss: 0.1901 - accuracy: 0.9448 - val_loss: 0.1635 - val_accuracy: 0.9541\n",
            "Epoch 3/10\n",
            "938/938 [==============================] - 3s 3ms/step - loss: 0.1445 - accuracy: 0.9572 - val_loss: 0.1337 - val_accuracy: 0.9606\n",
            "Epoch 4/10\n",
            "938/938 [==============================] - 3s 3ms/step - loss: 0.1197 - accuracy: 0.9647 - val_loss: 0.1229 - val_accuracy: 0.9626\n",
            "Epoch 5/10\n",
            "938/938 [==============================] - 4s 4ms/step - loss: 0.1022 - accuracy: 0.9698 - val_loss: 0.1187 - val_accuracy: 0.9616\n",
            "Epoch 6/10\n",
            "938/938 [==============================] - 3s 3ms/step - loss: 0.0902 - accuracy: 0.9734 - val_loss: 0.1158 - val_accuracy: 0.9648\n",
            "Epoch 7/10\n",
            "938/938 [==============================] - 3s 3ms/step - loss: 0.0812 - accuracy: 0.9765 - val_loss: 0.1158 - val_accuracy: 0.9653\n",
            "Epoch 8/10\n",
            "938/938 [==============================] - 3s 3ms/step - loss: 0.0731 - accuracy: 0.9780 - val_loss: 0.1188 - val_accuracy: 0.9652\n",
            "Epoch 9/10\n",
            "938/938 [==============================] - 4s 4ms/step - loss: 0.0670 - accuracy: 0.9801 - val_loss: 0.1139 - val_accuracy: 0.9664\n",
            "Epoch 10/10\n",
            "938/938 [==============================] - 3s 3ms/step - loss: 0.0615 - accuracy: 0.9816 - val_loss: 0.1232 - val_accuracy: 0.9660\n",
            "313/313 [==============================] - 1s 2ms/step - loss: 0.1232 - accuracy: 0.9660\n",
            "Test Accuracy:  0.9660000205039978\n",
            "Current Hidden Layer  Size:  64\n",
            "Epoch 1/10\n",
            "938/938 [==============================] - 4s 3ms/step - loss: 0.3682 - accuracy: 0.8987 - val_loss: 0.2061 - val_accuracy: 0.9377\n",
            "Epoch 2/10\n",
            "938/938 [==============================] - 3s 4ms/step - loss: 0.1780 - accuracy: 0.9470 - val_loss: 0.1554 - val_accuracy: 0.9526\n",
            "Epoch 3/10\n",
            "938/938 [==============================] - 3s 3ms/step - loss: 0.1346 - accuracy: 0.9596 - val_loss: 0.1262 - val_accuracy: 0.9621\n",
            "Epoch 4/10\n",
            "938/938 [==============================] - 3s 3ms/step - loss: 0.1102 - accuracy: 0.9671 - val_loss: 0.1194 - val_accuracy: 0.9642\n",
            "Epoch 5/10\n",
            "938/938 [==============================] - 3s 3ms/step - loss: 0.0943 - accuracy: 0.9710 - val_loss: 0.1155 - val_accuracy: 0.9658\n",
            "Epoch 6/10\n",
            "938/938 [==============================] - 3s 3ms/step - loss: 0.0825 - accuracy: 0.9748 - val_loss: 0.1191 - val_accuracy: 0.9646\n",
            "Epoch 7/10\n",
            "938/938 [==============================] - 4s 4ms/step - loss: 0.0730 - accuracy: 0.9781 - val_loss: 0.1116 - val_accuracy: 0.9667\n",
            "Epoch 8/10\n",
            "938/938 [==============================] - 3s 3ms/step - loss: 0.0655 - accuracy: 0.9797 - val_loss: 0.1114 - val_accuracy: 0.9674\n",
            "Epoch 9/10\n",
            "938/938 [==============================] - 3s 3ms/step - loss: 0.0591 - accuracy: 0.9819 - val_loss: 0.1087 - val_accuracy: 0.9684\n",
            "Epoch 10/10\n",
            "938/938 [==============================] - 3s 3ms/step - loss: 0.0536 - accuracy: 0.9836 - val_loss: 0.1104 - val_accuracy: 0.9672\n",
            "313/313 [==============================] - 1s 2ms/step - loss: 0.1104 - accuracy: 0.9672\n",
            "Test Accuracy:  0.967199981212616\n",
            "Current Hidden Layer  Size:  128\n",
            "Epoch 1/10\n",
            "938/938 [==============================] - 4s 3ms/step - loss: 0.3448 - accuracy: 0.9026 - val_loss: 0.2045 - val_accuracy: 0.9391\n",
            "Epoch 2/10\n",
            "938/938 [==============================] - 3s 3ms/step - loss: 0.1722 - accuracy: 0.9485 - val_loss: 0.1486 - val_accuracy: 0.9568\n",
            "Epoch 3/10\n",
            "938/938 [==============================] - 3s 3ms/step - loss: 0.1305 - accuracy: 0.9608 - val_loss: 0.1295 - val_accuracy: 0.9591\n",
            "Epoch 4/10\n",
            "938/938 [==============================] - 4s 4ms/step - loss: 0.1068 - accuracy: 0.9675 - val_loss: 0.1352 - val_accuracy: 0.9598\n",
            "Epoch 5/10\n",
            "938/938 [==============================] - 3s 3ms/step - loss: 0.0919 - accuracy: 0.9721 - val_loss: 0.1100 - val_accuracy: 0.9663\n",
            "Epoch 6/10\n",
            "938/938 [==============================] - 3s 3ms/step - loss: 0.0807 - accuracy: 0.9745 - val_loss: 0.1166 - val_accuracy: 0.9652\n",
            "Epoch 7/10\n",
            "938/938 [==============================] - 3s 3ms/step - loss: 0.0708 - accuracy: 0.9781 - val_loss: 0.1090 - val_accuracy: 0.9669\n",
            "Epoch 8/10\n",
            "938/938 [==============================] - 4s 4ms/step - loss: 0.0644 - accuracy: 0.9796 - val_loss: 0.1098 - val_accuracy: 0.9667\n",
            "Epoch 9/10\n",
            "938/938 [==============================] - 3s 3ms/step - loss: 0.0569 - accuracy: 0.9819 - val_loss: 0.1061 - val_accuracy: 0.9692\n",
            "Epoch 10/10\n",
            "938/938 [==============================] - 3s 3ms/step - loss: 0.0517 - accuracy: 0.9837 - val_loss: 0.1142 - val_accuracy: 0.9665\n",
            "313/313 [==============================] - 1s 2ms/step - loss: 0.1142 - accuracy: 0.9665\n",
            "Test Accuracy:  0.9664999842643738\n",
            "Current Hidden Layer  Size:  256\n",
            "Epoch 1/10\n",
            "938/938 [==============================] - 5s 4ms/step - loss: 0.3345 - accuracy: 0.9038 - val_loss: 0.1949 - val_accuracy: 0.9410\n",
            "Epoch 2/10\n",
            "938/938 [==============================] - 3s 4ms/step - loss: 0.1737 - accuracy: 0.9494 - val_loss: 0.1529 - val_accuracy: 0.9530\n",
            "Epoch 3/10\n",
            "938/938 [==============================] - 3s 3ms/step - loss: 0.1346 - accuracy: 0.9593 - val_loss: 0.1280 - val_accuracy: 0.9594\n",
            "Epoch 4/10\n",
            "938/938 [==============================] - 3s 3ms/step - loss: 0.1121 - accuracy: 0.9656 - val_loss: 0.1211 - val_accuracy: 0.9613\n",
            "Epoch 5/10\n",
            "938/938 [==============================] - 4s 5ms/step - loss: 0.0961 - accuracy: 0.9708 - val_loss: 0.1464 - val_accuracy: 0.9536\n",
            "Epoch 6/10\n",
            "938/938 [==============================] - 3s 3ms/step - loss: 0.0849 - accuracy: 0.9732 - val_loss: 0.1222 - val_accuracy: 0.9626\n",
            "Epoch 7/10\n",
            "938/938 [==============================] - 3s 3ms/step - loss: 0.0755 - accuracy: 0.9762 - val_loss: 0.1173 - val_accuracy: 0.9646\n",
            "Epoch 8/10\n",
            "938/938 [==============================] - 3s 3ms/step - loss: 0.0687 - accuracy: 0.9775 - val_loss: 0.1102 - val_accuracy: 0.9689\n",
            "Epoch 9/10\n",
            "938/938 [==============================] - 4s 4ms/step - loss: 0.0611 - accuracy: 0.9811 - val_loss: 0.1192 - val_accuracy: 0.9646\n",
            "Epoch 10/10\n",
            "938/938 [==============================] - 3s 3ms/step - loss: 0.0549 - accuracy: 0.9828 - val_loss: 0.1117 - val_accuracy: 0.9681\n",
            "313/313 [==============================] - 1s 2ms/step - loss: 0.1117 - accuracy: 0.9681\n",
            "Test Accuracy:  0.9681000113487244\n"
          ]
        }
      ]
    },
    {
      "cell_type": "markdown",
      "source": [
        "\n",
        "\n",
        "*   \tCompare and visualize the results of the neural network.\n",
        "\n"
      ],
      "metadata": {
        "id": "mZyWJPafS5lo"
      }
    },
    {
      "cell_type": "code",
      "source": [
        "# Plot the results\n",
        "plt.figure(figsize=(10,5))\n",
        "for activation in activation_dictionary:\n",
        "    plt.plot(unit_sizes, activation_dictionary[activation], label=activation)\n",
        "plt.legend()\n",
        "plt.title(\"Test Accuracy vs. Hidden Layer Size\")\n",
        "plt.xlabel(\"Hidden Layer Size\")\n",
        "plt.ylabel(\"Test Accuracy\")\n",
        "plt.show()"
      ],
      "metadata": {
        "id": "mljY_y5O7GPM",
        "colab": {
          "base_uri": "https://localhost:8080/",
          "height": 350
        },
        "outputId": "61e3c3a2-e752-498d-aa8d-fe86014d9657"
      },
      "execution_count": 76,
      "outputs": [
        {
          "output_type": "display_data",
          "data": {
            "text/plain": [
              "<Figure size 720x360 with 1 Axes>"
            ],
            "image/png": "[encoded data removed]"
          },
          "metadata": {
            "needs_background": "light"
          }
        }
      ]
    },
    {
      "cell_type": "markdown",
      "source": [
        "* \tSave the best performing network model using model.save() method"
      ],
      "metadata": {
        "id": "uzW_A3WQTAj0"
      }
    },
    {
      "cell_type": "code",
      "source": [
        "model_json = best_model.to_json()\n",
        "with open(\"model.json\", \"w\") as json_file:\n",
        "    json_file.write(model_json)\n",
        "# serialize weights to HDF5\n",
        "model.save_weights(\"model.h5\")\n",
        "print(\"Saved model to disk\")"
      ],
      "metadata": {
        "colab": {
          "base_uri": "https://localhost:8080/"
        },
        "id": "9jEPEG5JM8KH",
        "outputId": "88c0d9e3-d13e-436c-8b97-4e37f0358806"
      },
      "execution_count": 77,
      "outputs": [
        {
          "output_type": "stream",
          "name": "stdout",
          "text": [
            "Saved model to disk\n"
          ]
        }
      ]
    }
  ]
}